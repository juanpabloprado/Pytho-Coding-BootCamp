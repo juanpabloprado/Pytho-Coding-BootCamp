{
 "cells": [
  {
   "cell_type": "markdown",
   "metadata": {},
   "source": [
    "# 2. Activity"
   ]
  },
  {
   "cell_type": "markdown",
   "metadata": {},
   "source": [
    "**1.** Make a list that includes at least three people you’d like to invite to dinner and print a message to each person, inviting them to dinner.\n",
    "\n",
    "**Answer:**"
   ]
  },
  {
   "cell_type": "code",
   "execution_count": null,
   "metadata": {},
   "outputs": [],
   "source": [
    "people = ['lucero', 'juan', 'orlando']"
   ]
  },
  {
   "cell_type": "code",
   "execution_count": null,
   "metadata": {},
   "outputs": [],
   "source": [
    "print(people[0].title(), \"you are invited.\")\n",
    "print(people[1].title(), \"you are invited.\")\n",
    "print(people[2].title(), \"you are invited.\")"
   ]
  },
  {
   "cell_type": "markdown",
   "metadata": {},
   "source": [
    "**2.** Think of three more guests to invite to dinner.\n",
    "\n",
    "a) Use `insert()` to add a new guest to the beginning of your list.\n",
    "\n",
    "b) Use `insert()` to add a new guest to the middle of your list.\n",
    "\n",
    "c) Use `append()` to add a new guest to the end of your list.\n",
    "\n",
    "d) Print the new list\n",
    "\n",
    "**Answer:**"
   ]
  },
  {
   "cell_type": "code",
   "execution_count": null,
   "metadata": {},
   "outputs": [],
   "source": [
    "people.insert(0, 'gemma')\n",
    "people.insert(2, 'adrian')\n",
    "people.append('fabian')\n",
    "\n",
    "print(people)"
   ]
  },
  {
   "cell_type": "markdown",
   "metadata": {},
   "source": [
    "**3.** Use `pop()` to remove the last guest from your list and print a message to that person letting him/her know you’re sorry you can’t invite him/her to dinner.\n",
    "\n",
    "**Answer:**"
   ]
  },
  {
   "cell_type": "code",
   "execution_count": null,
   "metadata": {},
   "outputs": [],
   "source": [
    "popped_person = people.pop()\n",
    "\n",
    "print(\"I\\'m sorry\", popped_person, \"you are not invited\")"
   ]
  }
 ],
 "metadata": {
  "kernelspec": {
   "display_name": "Python 3",
   "language": "python",
   "name": "python3"
  },
  "language_info": {
   "codemirror_mode": {
    "name": "ipython",
    "version": 3
   },
   "file_extension": ".py",
   "mimetype": "text/x-python",
   "name": "python",
   "nbconvert_exporter": "python",
   "pygments_lexer": "ipython3",
   "version": "3.7.3"
  }
 },
 "nbformat": 4,
 "nbformat_minor": 4
}
